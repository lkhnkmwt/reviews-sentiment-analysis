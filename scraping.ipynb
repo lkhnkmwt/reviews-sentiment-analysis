{
 "cells": [
  {
   "cell_type": "code",
   "execution_count": 3,
   "id": "82c69473",
   "metadata": {},
   "outputs": [],
   "source": [
    "import urllib\n",
    "from bs4  import BeautifulSoup\n",
    "import pandas as pd"
   ]
  },
  {
   "cell_type": "code",
   "execution_count": 2,
   "id": "0d207de5",
   "metadata": {},
   "outputs": [],
   "source": [
    "products=['laptops','mobiles','fridge','smart tv','samsung','mi','realme','lava','hp','washing machines','watch','monitor','samsung monitor','sony led','blue star air conditioner','tablet','lg washing machine','honor mobiles','huawei mobiles']"
   ]
  },
  {
   "cell_type": "code",
   "execution_count": 37,
   "id": "b1c12c64",
   "metadata": {
    "scrolled": true
   },
   "outputs": [],
   "source": [
    "df=pd.DataFrame(columns=['Product_name','Review','Rating'])\n",
    "for product in products:\n",
    "    \n",
    "    product=product.lower()\n",
    "    basic='https://www.flipkart.com'\n",
    "    lst=product.split(' ')\n",
    "    product='+'.join(lst)\n",
    "    req=urllib.request.urlopen(f'{basic}'+'/search?q='+f'{product}')\n",
    "    soup=BeautifulSoup(req,'html.parser') # produced searched and displayed\n",
    "    \n",
    "    j=soup.find_all('a',attrs={'class':'_1fQZEK'},href=True)\n",
    "    for i in j:\n",
    "        req_prod=urllib.request.urlopen(f'{basic}{i[\"href\"]}')  # entering into the link of particular product\n",
    "        soup_prod=BeautifulSoup(req_prod,'html.parser')\n",
    "\n",
    "        name_soup=soup_prod.find('span',attrs={'class':'B_NuCI'})\n",
    "        name=name_soup.text   # name of the product\n",
    "\n",
    "        \n",
    "        comments_rating_divs=soup_prod.find_all('div',attrs={'class':'col _2wzgFH'})\n",
    "        \n",
    "        for comment_rating_div in comments_rating_divs:\n",
    "            \n",
    "            c=comment_rating_div.find_all('div',attrs={'class':'row'})\n",
    "            rating=c[0].div.text   # rating of product\n",
    "            comment=c[1].div.div.div.text  # review of the product\n",
    "            df=df.append({'Product_name':name,'Review':comment,'Rating':rating},ignore_index=True)\n",
    "                    "
   ]
  },
  {
   "cell_type": "code",
   "execution_count": 40,
   "id": "0079a632",
   "metadata": {},
   "outputs": [
    {
     "data": {
      "text/html": [
       "<div>\n",
       "<style scoped>\n",
       "    .dataframe tbody tr th:only-of-type {\n",
       "        vertical-align: middle;\n",
       "    }\n",
       "\n",
       "    .dataframe tbody tr th {\n",
       "        vertical-align: top;\n",
       "    }\n",
       "\n",
       "    .dataframe thead th {\n",
       "        text-align: right;\n",
       "    }\n",
       "</style>\n",
       "<table border=\"1\" class=\"dataframe\">\n",
       "  <thead>\n",
       "    <tr style=\"text-align: right;\">\n",
       "      <th></th>\n",
       "      <th>Product_name</th>\n",
       "      <th>Review</th>\n",
       "      <th>Rating</th>\n",
       "    </tr>\n",
       "  </thead>\n",
       "  <tbody>\n",
       "    <tr>\n",
       "      <th>0</th>\n",
       "      <td>SONY BRAVIA 80 cm (32 inch) HD Ready LED Smart...</td>\n",
       "      <td>Sony is really a great brand, and I really lik...</td>\n",
       "      <td>5</td>\n",
       "    </tr>\n",
       "    <tr>\n",
       "      <th>1</th>\n",
       "      <td>SONY BRAVIA 80 cm (32 inch) HD Ready LED Smart...</td>\n",
       "      <td>Best from sony (32 inch) tv. I have taken righ...</td>\n",
       "      <td>5</td>\n",
       "    </tr>\n",
       "    <tr>\n",
       "      <th>2</th>\n",
       "      <td>SONY BRAVIA 80 cm (32 inch) HD Ready LED Smart...</td>\n",
       "      <td>I compare all other TV it's take me 2 month , ...</td>\n",
       "      <td>5</td>\n",
       "    </tr>\n",
       "    <tr>\n",
       "      <th>3</th>\n",
       "      <td>SONY BRAVIA 80 cm (32 inch) HD Ready LED Smart...</td>\n",
       "      <td>Very good</td>\n",
       "      <td>4</td>\n",
       "    </tr>\n",
       "    <tr>\n",
       "      <th>4</th>\n",
       "      <td>SONY BRAVIA 80 cm (32 inch) HD Ready LED Smart...</td>\n",
       "      <td>Awesome picture and sound quality.... ❤️❤️... ...</td>\n",
       "      <td>5</td>\n",
       "    </tr>\n",
       "    <tr>\n",
       "      <th>...</th>\n",
       "      <td>...</td>\n",
       "      <td>...</td>\n",
       "      <td>...</td>\n",
       "    </tr>\n",
       "    <tr>\n",
       "      <th>1243</th>\n",
       "      <td>Honor 8  (4 GB RAM)</td>\n",
       "      <td>This is truly a masterpiece , awesome design a...</td>\n",
       "      <td>4</td>\n",
       "    </tr>\n",
       "    <tr>\n",
       "      <th>1244</th>\n",
       "      <td>Honor 8  (4 GB RAM)</td>\n",
       "      <td>It's been about 10 days since the purchase and...</td>\n",
       "      <td>5</td>\n",
       "    </tr>\n",
       "    <tr>\n",
       "      <th>1245</th>\n",
       "      <td>Honor 8  (4 GB RAM)</td>\n",
       "      <td>amazing ...simply amazing in the feel..too goo...</td>\n",
       "      <td>5</td>\n",
       "    </tr>\n",
       "    <tr>\n",
       "      <th>1246</th>\n",
       "      <td>Honor 8  (4 GB RAM)</td>\n",
       "      <td>LTPS display is very share and smooth feel.Fin...</td>\n",
       "      <td>5</td>\n",
       "    </tr>\n",
       "    <tr>\n",
       "      <th>1247</th>\n",
       "      <td>Honor 8  (4 GB RAM)</td>\n",
       "      <td>EXCEPT CAMERA QUALITY AND BROWSING SPEED REMAI...</td>\n",
       "      <td>1</td>\n",
       "    </tr>\n",
       "  </tbody>\n",
       "</table>\n",
       "<p>1248 rows × 3 columns</p>\n",
       "</div>"
      ],
      "text/plain": [
       "                                           Product_name  \\\n",
       "0     SONY BRAVIA 80 cm (32 inch) HD Ready LED Smart...   \n",
       "1     SONY BRAVIA 80 cm (32 inch) HD Ready LED Smart...   \n",
       "2     SONY BRAVIA 80 cm (32 inch) HD Ready LED Smart...   \n",
       "3     SONY BRAVIA 80 cm (32 inch) HD Ready LED Smart...   \n",
       "4     SONY BRAVIA 80 cm (32 inch) HD Ready LED Smart...   \n",
       "...                                                 ...   \n",
       "1243                                Honor 8  (4 GB RAM)   \n",
       "1244                                Honor 8  (4 GB RAM)   \n",
       "1245                                Honor 8  (4 GB RAM)   \n",
       "1246                                Honor 8  (4 GB RAM)   \n",
       "1247                                Honor 8  (4 GB RAM)   \n",
       "\n",
       "                                                 Review Rating  \n",
       "0     Sony is really a great brand, and I really lik...      5  \n",
       "1     Best from sony (32 inch) tv. I have taken righ...      5  \n",
       "2     I compare all other TV it's take me 2 month , ...      5  \n",
       "3                                             Very good      4  \n",
       "4     Awesome picture and sound quality.... ❤️❤️... ...      5  \n",
       "...                                                 ...    ...  \n",
       "1243  This is truly a masterpiece , awesome design a...      4  \n",
       "1244  It's been about 10 days since the purchase and...      5  \n",
       "1245  amazing ...simply amazing in the feel..too goo...      5  \n",
       "1246  LTPS display is very share and smooth feel.Fin...      5  \n",
       "1247  EXCEPT CAMERA QUALITY AND BROWSING SPEED REMAI...      1  \n",
       "\n",
       "[1248 rows x 3 columns]"
      ]
     },
     "execution_count": 40,
     "metadata": {},
     "output_type": "execute_result"
    }
   ],
   "source": [
    "df"
   ]
  },
  {
   "cell_type": "code",
   "execution_count": 41,
   "id": "bfe29845",
   "metadata": {},
   "outputs": [
    {
     "name": "stdout",
     "output_type": "stream",
     "text": [
      "<class 'pandas.core.frame.DataFrame'>\n",
      "RangeIndex: 1248 entries, 0 to 1247\n",
      "Data columns (total 3 columns):\n",
      " #   Column        Non-Null Count  Dtype \n",
      "---  ------        --------------  ----- \n",
      " 0   Product_name  1248 non-null   object\n",
      " 1   Review        1248 non-null   object\n",
      " 2   Rating        1248 non-null   object\n",
      "dtypes: object(3)\n",
      "memory usage: 29.4+ KB\n"
     ]
    }
   ],
   "source": [
    "df.info()"
   ]
  },
  {
   "cell_type": "code",
   "execution_count": 42,
   "id": "fa45e7c1",
   "metadata": {},
   "outputs": [],
   "source": [
    "import seaborn as sns"
   ]
  },
  {
   "cell_type": "code",
   "execution_count": 43,
   "id": "60fda0fe",
   "metadata": {},
   "outputs": [],
   "source": [
    "df_new_new=df.copy()"
   ]
  },
  {
   "cell_type": "code",
   "execution_count": 68,
   "id": "fac4f40f",
   "metadata": {},
   "outputs": [],
   "source": [
    "def change(old_data):\n",
    "    for i in range(0,len(old_data)):\n",
    "        if((old_data['Rating'][i]=='2') |  (old_data['Rating'][i]=='1')):\n",
    "            old_data['Rating'][i]='Negative'\n",
    "        else:\n",
    "            old_data['Rating'][i]='Postive'\n",
    "    return old_data"
   ]
  },
  {
   "cell_type": "code",
   "execution_count": 45,
   "id": "bca35dfa",
   "metadata": {},
   "outputs": [
    {
     "name": "stderr",
     "output_type": "stream",
     "text": [
      "C:\\ProgramData\\Anaconda3\\envs\\genuine1\\lib\\site-packages\\seaborn\\_decorators.py:36: FutureWarning: Pass the following variable as a keyword arg: x. From version 0.12, the only valid positional argument will be `data`, and passing other arguments without an explicit keyword will result in an error or misinterpretation.\n",
      "  warnings.warn(\n"
     ]
    },
    {
     "data": {
      "text/plain": [
       "<AxesSubplot:xlabel='Rating', ylabel='count'>"
      ]
     },
     "execution_count": 45,
     "metadata": {},
     "output_type": "execute_result"
    },
    {
     "data": {
      "image/png": "[encoded data removed]",
      "text/plain": [
       "<Figure size 432x288 with 1 Axes>"
      ]
     },
     "metadata": {
      "needs_background": "light"
     },
     "output_type": "display_data"
    }
   ],
   "source": [
    "import seaborn as sns\n",
    "sns.countplot(df_new['Rating'])"
   ]
  },
  {
   "cell_type": "code",
   "execution_count": 102,
   "id": "4cd6c176",
   "metadata": {},
   "outputs": [
    {
     "data": {
      "text/html": [
       "<div>\n",
       "<style scoped>\n",
       "    .dataframe tbody tr th:only-of-type {\n",
       "        vertical-align: middle;\n",
       "    }\n",
       "\n",
       "    .dataframe tbody tr th {\n",
       "        vertical-align: top;\n",
       "    }\n",
       "\n",
       "    .dataframe thead th {\n",
       "        text-align: right;\n",
       "    }\n",
       "</style>\n",
       "<table border=\"1\" class=\"dataframe\">\n",
       "  <thead>\n",
       "    <tr style=\"text-align: right;\">\n",
       "      <th></th>\n",
       "      <th>Product_name</th>\n",
       "      <th>Review</th>\n",
       "      <th>Rating</th>\n",
       "    </tr>\n",
       "  </thead>\n",
       "  <tbody>\n",
       "    <tr>\n",
       "      <th>0</th>\n",
       "      <td>DELL Inspiron Athlon Dual Core 3050U - (4 GB/2...</td>\n",
       "      <td>My wife is so happy and best product 👌🏻😘</td>\n",
       "      <td>5</td>\n",
       "    </tr>\n",
       "    <tr>\n",
       "      <th>1</th>\n",
       "      <td>DELL Inspiron Athlon Dual Core 3050U - (4 GB/2...</td>\n",
       "      <td>Light weight laptop with new amazing features,...</td>\n",
       "      <td>5</td>\n",
       "    </tr>\n",
       "    <tr>\n",
       "      <th>2</th>\n",
       "      <td>DELL Inspiron Athlon Dual Core 3050U - (4 GB/2...</td>\n",
       "      <td>Amazing laptop, am so much happy, thanks for F...</td>\n",
       "      <td>5</td>\n",
       "    </tr>\n",
       "    <tr>\n",
       "      <th>3</th>\n",
       "      <td>DELL Inspiron Athlon Dual Core 3050U - (4 GB/2...</td>\n",
       "      <td>Over all a good laptop for personal use</td>\n",
       "      <td>5</td>\n",
       "    </tr>\n",
       "    <tr>\n",
       "      <th>4</th>\n",
       "      <td>DELL Inspiron Athlon Dual Core 3050U - (4 GB/2...</td>\n",
       "      <td>Thank you so much Flipkart</td>\n",
       "      <td>4</td>\n",
       "    </tr>\n",
       "    <tr>\n",
       "      <th>...</th>\n",
       "      <td>...</td>\n",
       "      <td>...</td>\n",
       "      <td>...</td>\n",
       "    </tr>\n",
       "    <tr>\n",
       "      <th>2429</th>\n",
       "      <td>Huawei Y9 (Sapphire Blue, 64 GB)  (4 GB RAM)</td>\n",
       "      <td>product quality is too bad.some of the functio...</td>\n",
       "      <td>1</td>\n",
       "    </tr>\n",
       "    <tr>\n",
       "      <th>2430</th>\n",
       "      <td>Huawei Y9 (Sapphire Blue, 64 GB)  (4 GB RAM)</td>\n",
       "      <td>It's like nothing</td>\n",
       "      <td>1</td>\n",
       "    </tr>\n",
       "    <tr>\n",
       "      <th>2431</th>\n",
       "      <td>Huawei Honor 8 (Sakura Pink, 32 GB)  (4 GB RAM)</td>\n",
       "      <td>just drop into the water for few second and mo...</td>\n",
       "      <td>1</td>\n",
       "    </tr>\n",
       "    <tr>\n",
       "      <th>2432</th>\n",
       "      <td>Huawei Ascend P6 (White, 8 GB)  (2 GB RAM)</td>\n",
       "      <td>Huawei is a good manufacturer I have used 1 of...</td>\n",
       "      <td>2</td>\n",
       "    </tr>\n",
       "    <tr>\n",
       "      <th>2433</th>\n",
       "      <td>Honor 8  (4 GB RAM)</td>\n",
       "      <td>EXCEPT CAMERA QUALITY AND BROWSING SPEED REMAI...</td>\n",
       "      <td>1</td>\n",
       "    </tr>\n",
       "  </tbody>\n",
       "</table>\n",
       "<p>2434 rows × 3 columns</p>\n",
       "</div>"
      ],
      "text/plain": [
       "                                           Product_name  \\\n",
       "0     DELL Inspiron Athlon Dual Core 3050U - (4 GB/2...   \n",
       "1     DELL Inspiron Athlon Dual Core 3050U - (4 GB/2...   \n",
       "2     DELL Inspiron Athlon Dual Core 3050U - (4 GB/2...   \n",
       "3     DELL Inspiron Athlon Dual Core 3050U - (4 GB/2...   \n",
       "4     DELL Inspiron Athlon Dual Core 3050U - (4 GB/2...   \n",
       "...                                                 ...   \n",
       "2429       Huawei Y9 (Sapphire Blue, 64 GB)  (4 GB RAM)   \n",
       "2430       Huawei Y9 (Sapphire Blue, 64 GB)  (4 GB RAM)   \n",
       "2431    Huawei Honor 8 (Sakura Pink, 32 GB)  (4 GB RAM)   \n",
       "2432         Huawei Ascend P6 (White, 8 GB)  (2 GB RAM)   \n",
       "2433                                Honor 8  (4 GB RAM)   \n",
       "\n",
       "                                                 Review Rating  \n",
       "0              My wife is so happy and best product 👌🏻😘      5  \n",
       "1     Light weight laptop with new amazing features,...      5  \n",
       "2     Amazing laptop, am so much happy, thanks for F...      5  \n",
       "3               Over all a good laptop for personal use      5  \n",
       "4                            Thank you so much Flipkart      4  \n",
       "...                                                 ...    ...  \n",
       "2429  product quality is too bad.some of the functio...      1  \n",
       "2430                                  It's like nothing      1  \n",
       "2431  just drop into the water for few second and mo...      1  \n",
       "2432  Huawei is a good manufacturer I have used 1 of...      2  \n",
       "2433  EXCEPT CAMERA QUALITY AND BROWSING SPEED REMAI...      1  \n",
       "\n",
       "[2434 rows x 3 columns]"
      ]
     },
     "execution_count": 102,
     "metadata": {},
     "output_type": "execute_result"
    }
   ],
   "source": [
    "df_new_new"
   ]
  },
  {
   "cell_type": "code",
   "execution_count": 104,
   "id": "0ae301a1",
   "metadata": {},
   "outputs": [
    {
     "name": "stdout",
     "output_type": "stream",
     "text": [
      "<class 'pandas.core.frame.DataFrame'>\n",
      "RangeIndex: 2434 entries, 0 to 2433\n",
      "Data columns (total 3 columns):\n",
      " #   Column        Non-Null Count  Dtype \n",
      "---  ------        --------------  ----- \n",
      " 0   Product_name  2434 non-null   object\n",
      " 1   Review        2434 non-null   object\n",
      " 2   Rating        2434 non-null   object\n",
      "dtypes: object(3)\n",
      "memory usage: 57.2+ KB\n"
     ]
    }
   ],
   "source": [
    "df_new_new.info()"
   ]
  },
  {
   "cell_type": "code",
   "execution_count": 107,
   "id": "881c3255",
   "metadata": {},
   "outputs": [
    {
     "name": "stderr",
     "output_type": "stream",
     "text": [
      "C:\\ProgramData\\Anaconda3\\envs\\genuine1\\lib\\site-packages\\seaborn\\_decorators.py:36: FutureWarning: Pass the following variable as a keyword arg: x. From version 0.12, the only valid positional argument will be `data`, and passing other arguments without an explicit keyword will result in an error or misinterpretation.\n",
      "  warnings.warn(\n"
     ]
    },
    {
     "data": {
      "text/plain": [
       "<AxesSubplot:xlabel='Rating', ylabel='count'>"
      ]
     },
     "execution_count": 107,
     "metadata": {},
     "output_type": "execute_result"
    },
    {
     "data": {
      "image/png": "[encoded data removed]",
      "text/plain": [
       "<Figure size 432x288 with 1 Axes>"
      ]
     },
     "metadata": {
      "needs_background": "light"
     },
     "output_type": "display_data"
    }
   ],
   "source": [
    "sns.countplot(df_new_new['Rating'])"
   ]
  },
  {
   "cell_type": "code",
   "execution_count": 106,
   "id": "39796b63",
   "metadata": {},
   "outputs": [],
   "source": [
    "df_new_new=change(df_new_new)"
   ]
  },
  {
   "cell_type": "code",
   "execution_count": 109,
   "id": "c42e12c8",
   "metadata": {},
   "outputs": [],
   "source": [
    "df_new_new.to_csv('df_new_new.csv',index=False)"
   ]
  },
  {
   "cell_type": "code",
   "execution_count": null,
   "id": "f0419978",
   "metadata": {},
   "outputs": [],
   "source": []
  }
 ],
 "metadata": {
  "kernelspec": {
   "display_name": "Python 3",
   "language": "python",
   "name": "python3"
  },
  "language_info": {
   "codemirror_mode": {
    "name": "ipython",
    "version": 3
   },
   "file_extension": ".py",
   "mimetype": "text/x-python",
   "name": "python",
   "nbconvert_exporter": "python",
   "pygments_lexer": "ipython3",
   "version": "3.8.8"
  }
 },
 "nbformat": 4,
 "nbformat_minor": 5
}
